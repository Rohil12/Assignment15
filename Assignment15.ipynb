{
 "cells": [
  {
   "cell_type": "code",
   "execution_count": 1,
   "id": "03d26b16-5250-4ae2-916a-a2ea2e5abec2",
   "metadata": {},
   "outputs": [],
   "source": [
    "# Q.1 An API, or Application programming interface,is a set of protocols\n",
    "# and tools for building software applications. APIs allow different software\n",
    "# applications to communicate with each other, share data and perform tasks.\n",
    "\n",
    "# Weather appsuse APIs to get real time weather data from weather services like OpenWeatherMap\n",
    "# Social media platforms like facebook, innstagram use APIs to allow third party developers to build app that integrate with their platforms\n",
    "# Payment gateways like paypal use APIs to allow merchants to accept payment on their websites.\n",
    "# Maps and location-based services Maps and location based services like google maps use to provide location data to other apps."
   ]
  },
  {
   "cell_type": "code",
   "execution_count": 1,
   "id": "b808c752-0681-45c4-9599-ac938395cf17",
   "metadata": {},
   "outputs": [],
   "source": [
    "# Q.2\n",
    "# Advantage\n",
    "# Modularity: APIs allow developers to build software applications in a modular\n",
    "# way , which makes it easier to maintain and update the software over time \n",
    "# Efficiency : APIs can help developers save time and resources by allowing them to \n",
    "# reuse code and functionality that has already been developed\n",
    "# Flexibility: APIs can be used to integrate different software applications and services\n",
    "# which makes it easier to create new applications\n",
    "\n",
    "# Disadvantage\n",
    "# Cost: developing and implementing APIs can be costly at times and requires high maintenance and support from developers\n",
    "# Security issues: Using APIs adds another layer of surface which is then prone to attacks \n",
    "# Single point of entry: As a single point of entry, an API is a gateway and can become a hackers primary target"
   ]
  },
  {
   "cell_type": "code",
   "execution_count": 3,
   "id": "91013a1c-45a3-4426-af0e-14834ab3d304",
   "metadata": {},
   "outputs": [],
   "source": [
    "# Q.3\n",
    "# A Web API is an interface that allows communication between different\n",
    "# software systems over the internet. It is a type of API that is accessed using the Http protocols\n",
    "# and is used to exchange data between web applications\n",
    "\n",
    "# 1.Communication style: An APIs can be used for any style of communication\n",
    "# while web APIs are specifically used for exchanging data between web applications\n",
    "# 2.Protocol support: Web services support only HTTP protocols wherease APIs support HTTP/HTTPS protocol\n",
    "# 3.Data format: Web services support XML, while APIs support XML and JSON\n",
    "# 4.Functionality: While using APIs, developers find new tools and functionality for API exchanges\n",
    "# web APIs are specifically designed to exchange data between web applications"
   ]
  },
  {
   "cell_type": "code",
   "execution_count": 4,
   "id": "bf8fbf92-6b1a-49eb-af61-c2f9335dbc2c",
   "metadata": {},
   "outputs": [],
   "source": [
    "# Q.4\n",
    "# REST(Representational state transfer) is an architectural styple that\n",
    "# provides standards between computer systems on the web.using familiar HTTP\n",
    "# verbs( GET,POST,PUT,DELETE) and standard data formats like JSON or XML.\n",
    "\n",
    "# SOAP (Simple object access protocol) is a protocol that defines a standard \n",
    "# for communication between a server and a client using XML based message exchange format.\n",
    "# A standardized XML-based protocol for web services communication\n",
    "\n",
    "# Shortcomings\n",
    "# Complexity: SOAP is a complex protocol that requires a lot of bandwidth and\n",
    "# processing power making it slower than REST\n",
    "# Cost: Developing and implementing SOAP web services can be costly at times and requires high \n",
    "# maintenance and support from developers\n",
    "# Security issues: Using SOAP adds another layer of surface which is then prone to attacks\n",
    "# and hence the security of the SOAP is a major concern"
   ]
  },
  {
   "cell_type": "code",
   "execution_count": 5,
   "id": "d9294f4a-6da0-48e9-86f6-6d49a8373bc2",
   "metadata": {},
   "outputs": [],
   "source": [
    "# Q.5\n",
    "# Communication style: REST is used to build lightweight services that can communicate over HHTP\n",
    "# While SOAP is used to exchange structured information between applications over the internet\n",
    "\n",
    "# Protocol support:REST allows multiple standards like XML, JSON,HTTP and URL\n",
    "# whereas SOAP web services use XML for data exchange \n",
    "\n",
    "# Data format: REST permits different data format such as plain text, HTML,XML JSON etc\n",
    "# While SOAP permits XML data only\n",
    "\n",
    "# Functionality: Rest is an architectural style that provides standards between computer systems \n",
    "# on the web, while SOAP is a protocol that defines a standard for communication between a server\n",
    "# and a client using XML-based message exchange format."
   ]
  },
  {
   "cell_type": "code",
   "execution_count": null,
   "id": "65700b8b-d187-4d2c-a9de-8ac173c300df",
   "metadata": {},
   "outputs": [],
   "source": []
  }
 ],
 "metadata": {
  "kernelspec": {
   "display_name": "Python 3 (ipykernel)",
   "language": "python",
   "name": "python3"
  },
  "language_info": {
   "codemirror_mode": {
    "name": "ipython",
    "version": 3
   },
   "file_extension": ".py",
   "mimetype": "text/x-python",
   "name": "python",
   "nbconvert_exporter": "python",
   "pygments_lexer": "ipython3",
   "version": "3.10.8"
  }
 },
 "nbformat": 4,
 "nbformat_minor": 5
}
